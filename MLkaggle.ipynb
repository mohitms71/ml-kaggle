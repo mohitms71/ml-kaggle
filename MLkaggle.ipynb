{
 "cells": [
  {
   "cell_type": "markdown",
   "metadata": {},
   "source": [
    " Data preprocessing "
   ]
  },
  {
   "cell_type": "code",
   "execution_count": 49,
   "metadata": {
    "scrolled": true
   },
   "outputs": [
    {
     "name": "stderr",
     "output_type": "stream",
     "text": [
      "c:\\users\\asus\\appdata\\local\\programs\\python\\python37-32\\lib\\site-packages\\ipykernel_launcher.py:27: DeprecationWarning: The default dtype for empty Series will be 'object' instead of 'float64' in a future version. Specify a dtype explicitly to silence this warning.\n"
     ]
    }
   ],
   "source": [
    "import numpy as np\n",
    "import pandas as pd\n",
    "import matplotlib.pyplot as plt\n",
    "from sklearn.model_selection import train_test_split\n",
    "from sklearn import preprocessing\n",
    "df=pd.read_csv('sales_train.csv')\n",
    "df['date']=pd.to_datetime(df.date)\n",
    "df=df.sort_values(['date'],  ascending=True)\n",
    "\n",
    "\n",
    "\n",
    "\n",
    "#df2=df.groupby(['date_block_num','shop_id','item_id'])['item_cnt_day'].sum()\n",
    "#print(df2)\n",
    "#df1= df[df['item_id']==9910]\n",
    "li=[]\n",
    "for i in range(0,60):\n",
    "    df1= df[df['shop_id']==i]\n",
    "    #df1= df1[df1['date']=='20200101']\n",
    "    df1=df1.sort_values(['item_id'],ascending=True)\n",
    "    #print(df1)\n",
    "    df2=df1.groupby(['item_id'])['item_cnt_day'].sum()\n",
    "    df4=df2.index\n",
    "    df4=pd.Series(df4)\n",
    "    df2=(df2.to_numpy())\n",
    "    df2=pd.Series(df2)\n",
    "    df3=pd.Series([i]*len(df2))\n",
    "    frame={'shop_id':df3.astype(int),'item_id':df4,'item_cnt_month':df2}\n",
    "    b=pd.DataFrame(frame)\n",
    "    li.append(b)\n",
    "    \n",
    "df=pd.concat(li)\n",
    "#print(df)\n",
    "\n",
    "X_train= np.asarray(df[['shop_id','item_id']])\n",
    "y_train=np.asarray(df[['item_cnt_month']]).ravel()\n",
    "X_train=preprocessing.StandardScaler().fit(X_train).transform(X_train)\n"
   ]
  },
  {
   "cell_type": "markdown",
   "metadata": {},
   "source": [
    "Training model "
   ]
  },
  {
   "cell_type": "code",
   "execution_count": 50,
   "metadata": {},
   "outputs": [],
   "source": [
    "from sklearn.neighbors import KNeighborsClassifier\n",
    "k=6\n",
    "model=KNeighborsClassifier(n_neighbors=k).fit(X_train,y_train)\n",
    "\n"
   ]
  },
  {
   "cell_type": "markdown",
   "metadata": {},
   "source": [
    "Accuracy  evaluation through cross validation"
   ]
  },
  {
   "cell_type": "code",
   "execution_count": 51,
   "metadata": {},
   "outputs": [],
   "source": [
    "from sklearn.model_selection import cross_val_score\n",
    "all_accuracies = cross_val_score(estimator=model, X=X_train, y=y_train, cv=4)\n",
    "print(all_accuracies.mean())"
   ]
  },
  {
   "cell_type": "markdown",
   "metadata": {},
   "source": [
    "Prediction based on model"
   ]
  },
  {
   "cell_type": "code",
   "execution_count": 52,
   "metadata": {},
   "outputs": [
    {
     "name": "stderr",
     "output_type": "stream",
     "text": [
      "IOPub data rate exceeded.\n",
      "The notebook server will temporarily stop sending output\n",
      "to the client in order to avoid crashing it.\n",
      "To change this limit, set the config variable\n",
      "`--NotebookApp.iopub_data_rate_limit`.\n",
      "\n",
      "Current values:\n",
      "NotebookApp.iopub_data_rate_limit=1000000.0 (bytes/sec)\n",
      "NotebookApp.rate_limit_window=3.0 (secs)\n",
      "\n"
     ]
    }
   ],
   "source": [
    "df2= pd.read_csv('test.csv')\n",
    "X_test= np.asarray(df2[['shop_id','item_id']])\n",
    "X_test=preprocessing.StandardScaler().fit(X_test).transform(X_test)\n",
    "y_pred=model.predict(X_test)\n",
    "\n",
    "#y_pred=pd.Series(y_pred)\n",
    "#frame={'ID':range(0,214200),'item_cnt_month':y_pred}\n",
    "df_final=pd.DataFrame()\n",
    "df_final['ID']=range(0,214200)\n",
    "df_final['item_cnt_month']=y_pred\n",
    "#df_final_=df_final.to_string(index=False)\n",
    "#df_final['item_cnt_month']=df['item_cnt_month']/12 \n",
    "#df_final.to_csv('submission.csv', index=False)\n",
    "print(df_final.to_string(index=False))"
   ]
  },
  {
   "cell_type": "code",
   "execution_count": null,
   "metadata": {},
   "outputs": [],
   "source": []
  }
 ],
 "metadata": {
  "kernelspec": {
   "display_name": "Python 3",
   "language": "python",
   "name": "python3"
  },
  "language_info": {
   "codemirror_mode": {
    "name": "ipython",
    "version": 3
   },
   "file_extension": ".py",
   "mimetype": "text/x-python",
   "name": "python",
   "nbconvert_exporter": "python",
   "pygments_lexer": "ipython3",
   "version": "3.7.4"
  }
 },
 "nbformat": 4,
 "nbformat_minor": 4
}
